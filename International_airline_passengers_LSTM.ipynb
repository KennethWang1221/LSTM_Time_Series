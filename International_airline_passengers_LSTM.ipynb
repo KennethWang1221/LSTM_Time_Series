{
  "nbformat": 4,
  "nbformat_minor": 0,
  "metadata": {
    "colab": {
      "name": "International_airline_passengers_LSTM.ipynb",
      "provenance": []
    },
    "kernelspec": {
      "name": "python3",
      "display_name": "Python 3"
    }
  },
  "cells": [
    {
      "cell_type": "markdown",
      "metadata": {
        "id": "kbXbnWxrzF_M",
        "colab_type": "text"
      },
      "source": [
        "# **In this example we wish to make forcasts on a time series of international airline passengers**"
      ]
    },
    {
      "cell_type": "code",
      "metadata": {
        "id": "bkiFODuhif8S",
        "colab_type": "code",
        "colab": {
          "base_uri": "https://localhost:8080/",
          "height": 34
        },
        "outputId": "f9746929-42ea-46f7-c76d-817ac33a5dbd"
      },
      "source": [
        "%tensorflow_version 1.x"
      ],
      "execution_count": 1,
      "outputs": [
        {
          "output_type": "stream",
          "text": [
            "TensorFlow 1.x selected.\n"
          ],
          "name": "stdout"
        }
      ]
    },
    {
      "cell_type": "code",
      "metadata": {
        "id": "tiPFKw0vGOt6",
        "colab_type": "code",
        "colab": {}
      },
      "source": [
        "import math\n",
        "import numpy as np\n",
        "import pandas as pd\n",
        "import matplotlib.pyplot as plt\n",
        "\n",
        "data = pd.read_csv(\"/content/drive/My Drive/Colab Notebooks/Machine_Learning/LSTM_practice/international-airline-passengers.csv\", \n",
        "                      usecols = [1], \n",
        "                      engine = \"python\", \n",
        "                      skipfooter = 3)\n"
      ],
      "execution_count": 0,
      "outputs": []
    },
    {
      "cell_type": "code",
      "metadata": {
        "id": "4FfPD66NWiuN",
        "colab_type": "code",
        "colab": {
          "base_uri": "https://localhost:8080/",
          "height": 51
        },
        "outputId": "114ab2a5-d0db-4fcb-cd26-a2859a71de73"
      },
      "source": [
        "print(data.shape)\n",
        "print(type(data))"
      ],
      "execution_count": 3,
      "outputs": [
        {
          "output_type": "stream",
          "text": [
            "(144, 1)\n",
            "<class 'pandas.core.frame.DataFrame'>\n"
          ],
          "name": "stdout"
        }
      ]
    },
    {
      "cell_type": "code",
      "metadata": {
        "id": "Cc56yioSWmxR",
        "colab_type": "code",
        "colab": {
          "base_uri": "https://localhost:8080/",
          "height": 255
        },
        "outputId": "a9558031-8d59-494f-9b94-c9b3b95a2419"
      },
      "source": [
        "print(data)"
      ],
      "execution_count": 4,
      "outputs": [
        {
          "output_type": "stream",
          "text": [
            "     International airline passengers: monthly totals in thousands. Jan 49 ? Dec 60\n",
            "0                                                  112                             \n",
            "1                                                  118                             \n",
            "2                                                  132                             \n",
            "3                                                  129                             \n",
            "4                                                  121                             \n",
            "..                                                 ...                             \n",
            "139                                                606                             \n",
            "140                                                508                             \n",
            "141                                                461                             \n",
            "142                                                390                             \n",
            "143                                                432                             \n",
            "\n",
            "[144 rows x 1 columns]\n"
          ],
          "name": "stdout"
        }
      ]
    },
    {
      "cell_type": "code",
      "metadata": {
        "id": "W84w1_SFJCfS",
        "colab_type": "code",
        "outputId": "1071b850-bf21-4edd-81db-4938d48f4d94",
        "colab": {
          "base_uri": "https://localhost:8080/",
          "height": 204
        }
      },
      "source": [
        "data.head()\n"
      ],
      "execution_count": 5,
      "outputs": [
        {
          "output_type": "execute_result",
          "data": {
            "text/html": [
              "<div>\n",
              "<style scoped>\n",
              "    .dataframe tbody tr th:only-of-type {\n",
              "        vertical-align: middle;\n",
              "    }\n",
              "\n",
              "    .dataframe tbody tr th {\n",
              "        vertical-align: top;\n",
              "    }\n",
              "\n",
              "    .dataframe thead th {\n",
              "        text-align: right;\n",
              "    }\n",
              "</style>\n",
              "<table border=\"1\" class=\"dataframe\">\n",
              "  <thead>\n",
              "    <tr style=\"text-align: right;\">\n",
              "      <th></th>\n",
              "      <th>International airline passengers: monthly totals in thousands. Jan 49 ? Dec 60</th>\n",
              "    </tr>\n",
              "  </thead>\n",
              "  <tbody>\n",
              "    <tr>\n",
              "      <th>0</th>\n",
              "      <td>112</td>\n",
              "    </tr>\n",
              "    <tr>\n",
              "      <th>1</th>\n",
              "      <td>118</td>\n",
              "    </tr>\n",
              "    <tr>\n",
              "      <th>2</th>\n",
              "      <td>132</td>\n",
              "    </tr>\n",
              "    <tr>\n",
              "      <th>3</th>\n",
              "      <td>129</td>\n",
              "    </tr>\n",
              "    <tr>\n",
              "      <th>4</th>\n",
              "      <td>121</td>\n",
              "    </tr>\n",
              "  </tbody>\n",
              "</table>\n",
              "</div>"
            ],
            "text/plain": [
              "   International airline passengers: monthly totals in thousands. Jan 49 ? Dec 60\n",
              "0                                                112                             \n",
              "1                                                118                             \n",
              "2                                                132                             \n",
              "3                                                129                             \n",
              "4                                                121                             "
            ]
          },
          "metadata": {
            "tags": []
          },
          "execution_count": 5
        }
      ]
    },
    {
      "cell_type": "markdown",
      "metadata": {
        "id": "JnnK4HyqzQvn",
        "colab_type": "text"
      },
      "source": [
        "# **In this example I use time series data internation airline passengers,which wish to make forcasts on a time series of international airline passengers**"
      ]
    },
    {
      "cell_type": "markdown",
      "metadata": {
        "id": "NQP1FN8QzVtr",
        "colab_type": "text"
      },
      "source": [
        "# **plot the data time series digram to observe trends**"
      ]
    },
    {
      "cell_type": "code",
      "metadata": {
        "id": "BbebkDklzU98",
        "colab_type": "code",
        "colab": {}
      },
      "source": [
        ""
      ],
      "execution_count": 0,
      "outputs": []
    },
    {
      "cell_type": "code",
      "metadata": {
        "id": "rqa6dhqGJE3W",
        "colab_type": "code",
        "outputId": "c7cd0471-4d10-4347-edc9-64fbb698e12e",
        "colab": {
          "base_uri": "https://localhost:8080/",
          "height": 350
        }
      },
      "source": [
        "plt.figure(figsize = (15, 5))\n",
        "plt.plot(data, label = \"Airline Passengers\")\n",
        "plt.xlabel(\"Months\")\n",
        "plt.ylabel(\"1000 International Airline Passengers\")\n",
        "plt.title(\"The total number of passengers in Months from 1949-1960\")\n",
        "plt.legend()\n",
        "plt.show()"
      ],
      "execution_count": 6,
      "outputs": [
        {
          "output_type": "display_data",
          "data": {
            "image/png": "[encoded data removed]",
            "text/plain": [
              "<Figure size 1080x360 with 1 Axes>"
            ]
          },
          "metadata": {
            "tags": []
          }
        }
      ]
    },
    {
      "cell_type": "code",
      "metadata": {
        "id": "vhu6yDn6JI3f",
        "colab_type": "code",
        "outputId": "ff466807-78e4-4206-9ffa-ff171c01f5e9",
        "colab": {
          "base_uri": "https://localhost:8080/",
          "height": 34
        }
      },
      "source": [
        "from keras.models import Sequential\n",
        "from keras.layers.recurrent import LSTM\n",
        "from keras.layers.core import Dense, Activation, Dropout\n",
        "from sklearn.preprocessing import MinMaxScaler\n",
        "from sklearn.metrics import mean_squared_error\n",
        "from sklearn.utils import shuffle\n",
        "from keras import metrics"
      ],
      "execution_count": 7,
      "outputs": [
        {
          "output_type": "stream",
          "text": [
            "Using TensorFlow backend.\n"
          ],
          "name": "stderr"
        }
      ]
    },
    {
      "cell_type": "markdown",
      "metadata": {
        "id": "Uty8DCr1ZmcW",
        "colab_type": "text"
      },
      "source": [
        "# **Data processing of international airlines passengers**"
      ]
    },
    {
      "cell_type": "markdown",
      "metadata": {
        "id": "LxMBvAYJYZGz",
        "colab_type": "text"
      },
      "source": [
        "### **Get the raw data valuse from the pandas data frame**"
      ]
    },
    {
      "cell_type": "code",
      "metadata": {
        "id": "BUHqqa_oXtLv",
        "colab_type": "code",
        "colab": {}
      },
      "source": [
        "data_raw = data.values.astype(\"float32\")"
      ],
      "execution_count": 0,
      "outputs": []
    },
    {
      "cell_type": "code",
      "metadata": {
        "id": "7m7aje8pX1y7",
        "colab_type": "code",
        "colab": {
          "base_uri": "https://localhost:8080/",
          "height": 1000
        },
        "outputId": "b79f4d94-8471-4931-ffe8-bd7b5498f260"
      },
      "source": [
        "print(data_raw.shape)\n",
        "print(type(data_raw))\n",
        "print(data_raw)\n"
      ],
      "execution_count": 9,
      "outputs": [
        {
          "output_type": "stream",
          "text": [
            "(144, 1)\n",
            "<class 'numpy.ndarray'>\n",
            "[[112.]\n",
            " [118.]\n",
            " [132.]\n",
            " [129.]\n",
            " [121.]\n",
            " [135.]\n",
            " [148.]\n",
            " [148.]\n",
            " [136.]\n",
            " [119.]\n",
            " [104.]\n",
            " [118.]\n",
            " [115.]\n",
            " [126.]\n",
            " [141.]\n",
            " [135.]\n",
            " [125.]\n",
            " [149.]\n",
            " [170.]\n",
            " [170.]\n",
            " [158.]\n",
            " [133.]\n",
            " [114.]\n",
            " [140.]\n",
            " [145.]\n",
            " [150.]\n",
            " [178.]\n",
            " [163.]\n",
            " [172.]\n",
            " [178.]\n",
            " [199.]\n",
            " [199.]\n",
            " [184.]\n",
            " [162.]\n",
            " [146.]\n",
            " [166.]\n",
            " [171.]\n",
            " [180.]\n",
            " [193.]\n",
            " [181.]\n",
            " [183.]\n",
            " [218.]\n",
            " [230.]\n",
            " [242.]\n",
            " [209.]\n",
            " [191.]\n",
            " [172.]\n",
            " [194.]\n",
            " [196.]\n",
            " [196.]\n",
            " [236.]\n",
            " [235.]\n",
            " [229.]\n",
            " [243.]\n",
            " [264.]\n",
            " [272.]\n",
            " [237.]\n",
            " [211.]\n",
            " [180.]\n",
            " [201.]\n",
            " [204.]\n",
            " [188.]\n",
            " [235.]\n",
            " [227.]\n",
            " [234.]\n",
            " [264.]\n",
            " [302.]\n",
            " [293.]\n",
            " [259.]\n",
            " [229.]\n",
            " [203.]\n",
            " [229.]\n",
            " [242.]\n",
            " [233.]\n",
            " [267.]\n",
            " [269.]\n",
            " [270.]\n",
            " [315.]\n",
            " [364.]\n",
            " [347.]\n",
            " [312.]\n",
            " [274.]\n",
            " [237.]\n",
            " [278.]\n",
            " [284.]\n",
            " [277.]\n",
            " [317.]\n",
            " [313.]\n",
            " [318.]\n",
            " [374.]\n",
            " [413.]\n",
            " [405.]\n",
            " [355.]\n",
            " [306.]\n",
            " [271.]\n",
            " [306.]\n",
            " [315.]\n",
            " [301.]\n",
            " [356.]\n",
            " [348.]\n",
            " [355.]\n",
            " [422.]\n",
            " [465.]\n",
            " [467.]\n",
            " [404.]\n",
            " [347.]\n",
            " [305.]\n",
            " [336.]\n",
            " [340.]\n",
            " [318.]\n",
            " [362.]\n",
            " [348.]\n",
            " [363.]\n",
            " [435.]\n",
            " [491.]\n",
            " [505.]\n",
            " [404.]\n",
            " [359.]\n",
            " [310.]\n",
            " [337.]\n",
            " [360.]\n",
            " [342.]\n",
            " [406.]\n",
            " [396.]\n",
            " [420.]\n",
            " [472.]\n",
            " [548.]\n",
            " [559.]\n",
            " [463.]\n",
            " [407.]\n",
            " [362.]\n",
            " [405.]\n",
            " [417.]\n",
            " [391.]\n",
            " [419.]\n",
            " [461.]\n",
            " [472.]\n",
            " [535.]\n",
            " [622.]\n",
            " [606.]\n",
            " [508.]\n",
            " [461.]\n",
            " [390.]\n",
            " [432.]]\n"
          ],
          "name": "stdout"
        }
      ]
    },
    {
      "cell_type": "markdown",
      "metadata": {
        "id": "RE4KfEyYYmhn",
        "colab_type": "text"
      },
      "source": [
        "### **Normalize the data let them in the range (0,1)**"
      ]
    },
    {
      "cell_type": "code",
      "metadata": {
        "id": "UJIHDZTLYfJc",
        "colab_type": "code",
        "colab": {}
      },
      "source": [
        "data_scaler = MinMaxScaler(feature_range = (0,1))"
      ],
      "execution_count": 0,
      "outputs": []
    },
    {
      "cell_type": "code",
      "metadata": {
        "id": "QGFKmcDMY5Ii",
        "colab_type": "code",
        "colab": {
          "base_uri": "https://localhost:8080/",
          "height": 51
        },
        "outputId": "a0d32058-b24b-4c9b-be85-ce084342135f"
      },
      "source": [
        "print(type(data_scaler))\n",
        "print(data_scaler)"
      ],
      "execution_count": 11,
      "outputs": [
        {
          "output_type": "stream",
          "text": [
            "<class 'sklearn.preprocessing._data.MinMaxScaler'>\n",
            "MinMaxScaler(copy=True, feature_range=(0, 1))\n"
          ],
          "name": "stdout"
        }
      ]
    },
    {
      "cell_type": "code",
      "metadata": {
        "id": "MnWQ5tplZn8O",
        "colab_type": "code",
        "colab": {}
      },
      "source": [
        "dataset = data_scaler.fit_transform(data_raw)"
      ],
      "execution_count": 0,
      "outputs": []
    },
    {
      "cell_type": "code",
      "metadata": {
        "id": "xsTmhx_5ZwLT",
        "colab_type": "code",
        "colab": {
          "base_uri": "https://localhost:8080/",
          "height": 102
        },
        "outputId": "2a52555c-2b23-4528-946a-964569933b54"
      },
      "source": [
        "print(dataset[0:5])"
      ],
      "execution_count": 13,
      "outputs": [
        {
          "output_type": "stream",
          "text": [
            "[[0.01544401]\n",
            " [0.02702703]\n",
            " [0.05405405]\n",
            " [0.04826255]\n",
            " [0.03281853]]\n"
          ],
          "name": "stdout"
        }
      ]
    },
    {
      "cell_type": "markdown",
      "metadata": {
        "id": "9zvui-PdbgoK",
        "colab_type": "text"
      },
      "source": [
        "### **Split training data and testing data**"
      ]
    },
    {
      "cell_type": "code",
      "metadata": {
        "id": "6C8xXWPtblTm",
        "colab_type": "code",
        "colab": {}
      },
      "source": [
        "training_weight = 0.60\n",
        "testing_weight = 0.40\n",
        "train_size = int(len(dataset) * training_weight)\n",
        "test_size = int(len(dataset) * testing_weight)"
      ],
      "execution_count": 0,
      "outputs": []
    },
    {
      "cell_type": "code",
      "metadata": {
        "id": "Iq2I9-4reh4t",
        "colab_type": "code",
        "colab": {}
      },
      "source": [
        "train_data = dataset[0:train_size,:]\n",
        "test_data = dataset[train_size:len(dataset),:]"
      ],
      "execution_count": 0,
      "outputs": []
    },
    {
      "cell_type": "code",
      "metadata": {
        "id": "vtTkhp44e2K9",
        "colab_type": "code",
        "colab": {
          "base_uri": "https://localhost:8080/",
          "height": 51
        },
        "outputId": "b470111f-491a-4576-f982-578cc5a2d915"
      },
      "source": [
        "print(train_data.shape)\n",
        "print(test_data.shape)"
      ],
      "execution_count": 16,
      "outputs": [
        {
          "output_type": "stream",
          "text": [
            "(86, 1)\n",
            "(58, 1)\n"
          ],
          "name": "stdout"
        }
      ]
    },
    {
      "cell_type": "code",
      "metadata": {
        "id": "dwv8A7dOcACU",
        "colab_type": "code",
        "colab": {
          "base_uri": "https://localhost:8080/",
          "height": 51
        },
        "outputId": "13c02489-43d1-455b-f307-fc7fe5169918"
      },
      "source": [
        "print('Number of training sample:',len(train_data))\n",
        "print('Number of testing sample:',len(test_data))"
      ],
      "execution_count": 17,
      "outputs": [
        {
          "output_type": "stream",
          "text": [
            "Number of training sample: 86\n",
            "Number of testing sample: 58\n"
          ],
          "name": "stdout"
        }
      ]
    },
    {
      "cell_type": "markdown",
      "metadata": {
        "id": "p6VbLi1gfnpG",
        "colab_type": "text"
      },
      "source": [
        "### **Reshape train_data and test_data**"
      ]
    },
    {
      "cell_type": "code",
      "metadata": {
        "id": "IhCyRmzHfx5Z",
        "colab_type": "code",
        "colab": {}
      },
      "source": [
        "train_X = np.reshape(train_data, (train_data.shape[0], 1, train_data.shape[1]))\n",
        "test_X = np.reshape(test_data,(test_data.shape[0],1,test_data.shape[1]))"
      ],
      "execution_count": 0,
      "outputs": []
    },
    {
      "cell_type": "markdown",
      "metadata": {
        "id": "ov1NsrJLhlOx",
        "colab_type": "text"
      },
      "source": [
        "**Original train_data and test_data shape**"
      ]
    },
    {
      "cell_type": "code",
      "metadata": {
        "id": "kb55uBWDhpc2",
        "colab_type": "code",
        "colab": {
          "base_uri": "https://localhost:8080/",
          "height": 51
        },
        "outputId": "4dca0b4a-3924-4710-db8b-be2022f7a4d9"
      },
      "source": [
        "print(train_data.shape)\n",
        "print(test_data.shape)"
      ],
      "execution_count": 19,
      "outputs": [
        {
          "output_type": "stream",
          "text": [
            "(86, 1)\n",
            "(58, 1)\n"
          ],
          "name": "stdout"
        }
      ]
    },
    {
      "cell_type": "markdown",
      "metadata": {
        "id": "SZvuDblChtQn",
        "colab_type": "text"
      },
      "source": [
        "**New train_data and test_data shape**"
      ]
    },
    {
      "cell_type": "code",
      "metadata": {
        "id": "YeptAM6chA8a",
        "colab_type": "code",
        "colab": {
          "base_uri": "https://localhost:8080/",
          "height": 51
        },
        "outputId": "a0a51f6b-c08a-41a4-8848-dd2a589d928d"
      },
      "source": [
        "print(train_X.shape)\n",
        "print(test_X.shape)"
      ],
      "execution_count": 20,
      "outputs": [
        {
          "output_type": "stream",
          "text": [
            "(86, 1, 1)\n",
            "(58, 1, 1)\n"
          ],
          "name": "stdout"
        }
      ]
    },
    {
      "cell_type": "markdown",
      "metadata": {
        "id": "G67YlE-lmTQS",
        "colab_type": "text"
      },
      "source": [
        "**Another method defien train data and test data as well as define train_y and test_y**"
      ]
    },
    {
      "cell_type": "markdown",
      "metadata": {
        "id": "L2GmgOQRnoL6",
        "colab_type": "text"
      },
      "source": [
        "**define create_dataset method aimming to get train_x train_y and test_x test_y**"
      ]
    },
    {
      "cell_type": "code",
      "metadata": {
        "id": "KwHwPllqnfPM",
        "colab_type": "code",
        "colab": {}
      },
      "source": [
        "def create_dataset(dataset, window_size = 1):\n",
        "    data_X, data_Y = [], []\n",
        "    for i in range(len(dataset) - window_size - 1):\n",
        "        a = dataset[i:(i + window_size), 0]\n",
        "        data_X.append(a)\n",
        "        data_Y.append(dataset[i + window_size, 0])\n",
        "    return(np.array(data_X), np.array(data_Y))\n"
      ],
      "execution_count": 0,
      "outputs": []
    },
    {
      "cell_type": "code",
      "metadata": {
        "id": "NwGrvjbjmWhU",
        "colab_type": "code",
        "colab": {}
      },
      "source": [
        "window_size = 1\n",
        "train_X, train_Y = create_dataset(train_data, window_size)\n",
        "test_X, test_Y = create_dataset(test_data, window_size)"
      ],
      "execution_count": 0,
      "outputs": []
    },
    {
      "cell_type": "code",
      "metadata": {
        "id": "SBD6CU6koDhl",
        "colab_type": "code",
        "colab": {
          "base_uri": "https://localhost:8080/",
          "height": 119
        },
        "outputId": "a1974e05-3f90-4321-abad-2b23020fc6e5"
      },
      "source": [
        "print(train_X.shape)\n",
        "print(train_Y.shape)\n",
        "print('==================')\n",
        "print(test_X.shape)\n",
        "print(test_Y.shape)\n",
        "print('==================')"
      ],
      "execution_count": 23,
      "outputs": [
        {
          "output_type": "stream",
          "text": [
            "(84, 1)\n",
            "(84,)\n",
            "==================\n",
            "(56, 1)\n",
            "(56,)\n",
            "==================\n"
          ],
          "name": "stdout"
        }
      ]
    },
    {
      "cell_type": "markdown",
      "metadata": {
        "id": "MnivZ-BjpXQk",
        "colab_type": "text"
      },
      "source": [
        "**Reshape to appropriate size form for Keras**"
      ]
    },
    {
      "cell_type": "code",
      "metadata": {
        "id": "tqh6ubbCpSjH",
        "colab_type": "code",
        "colab": {
          "base_uri": "https://localhost:8080/",
          "height": 119
        },
        "outputId": "8b3ca7f0-08f1-43e2-f192-19fbb564617e"
      },
      "source": [
        "# Reshape the input data into appropriate form for Keras.\n",
        "train_X = np.reshape(train_X, (train_X.shape[0], 1, train_X.shape[1]))\n",
        "test_X = np.reshape(test_X, (test_X.shape[0], 1, test_X.shape[1]))\n",
        "print(\"New training data shape:\")\n",
        "print(train_X.shape)\n",
        "print(test_X.shape)\n",
        "print('==========')\n",
        "print(train_Y.shape)\n",
        "print(test_Y.shape)"
      ],
      "execution_count": 24,
      "outputs": [
        {
          "output_type": "stream",
          "text": [
            "New training data shape:\n",
            "(84, 1, 1)\n",
            "(56, 1, 1)\n",
            "==========\n",
            "(84,)\n",
            "(56,)\n"
          ],
          "name": "stdout"
        }
      ]
    },
    {
      "cell_type": "markdown",
      "metadata": {
        "id": "NA4t9zsdhj6o",
        "colab_type": "text"
      },
      "source": [
        "# **Define LSTM model**"
      ]
    },
    {
      "cell_type": "code",
      "metadata": {
        "id": "M3gj1nDDQ79p",
        "colab_type": "code",
        "outputId": "0c17de56-db3b-4d31-89d8-3acb1a532902",
        "colab": {
          "base_uri": "https://localhost:8080/",
          "height": 292
        }
      },
      "source": [
        "model = Sequential()\n",
        "model.add(LSTM(128,input_shape = (1,1)))\n",
        "model.add(Dropout(0.5))\n",
        "model.add(Dense(2))\n",
        "model.add(Dropout(0.5))\n",
        "model.add(Dense(16,init='uniform',activation='relu'))        \n",
        "model.add(Dense(1,init='uniform',activation='relu'))\n",
        "model.add(Activation(\"linear\"))\n",
        "\n"
      ],
      "execution_count": 25,
      "outputs": [
        {
          "output_type": "stream",
          "text": [
            "WARNING:tensorflow:From /usr/local/lib/python3.6/dist-packages/keras/backend/tensorflow_backend.py:66: The name tf.get_default_graph is deprecated. Please use tf.compat.v1.get_default_graph instead.\n",
            "\n",
            "WARNING:tensorflow:From /usr/local/lib/python3.6/dist-packages/keras/backend/tensorflow_backend.py:541: The name tf.placeholder is deprecated. Please use tf.compat.v1.placeholder instead.\n",
            "\n",
            "WARNING:tensorflow:From /usr/local/lib/python3.6/dist-packages/keras/backend/tensorflow_backend.py:4432: The name tf.random_uniform is deprecated. Please use tf.random.uniform instead.\n",
            "\n",
            "WARNING:tensorflow:From /usr/local/lib/python3.6/dist-packages/keras/backend/tensorflow_backend.py:148: The name tf.placeholder_with_default is deprecated. Please use tf.compat.v1.placeholder_with_default instead.\n",
            "\n",
            "WARNING:tensorflow:From /usr/local/lib/python3.6/dist-packages/keras/backend/tensorflow_backend.py:3733: calling dropout (from tensorflow.python.ops.nn_ops) with keep_prob is deprecated and will be removed in a future version.\n",
            "Instructions for updating:\n",
            "Please use `rate` instead of `keep_prob`. Rate should be set to `rate = 1 - keep_prob`.\n"
          ],
          "name": "stdout"
        },
        {
          "output_type": "stream",
          "text": [
            "/usr/local/lib/python3.6/dist-packages/ipykernel_launcher.py:6: UserWarning: Update your `Dense` call to the Keras 2 API: `Dense(16, activation=\"relu\", kernel_initializer=\"uniform\")`\n",
            "  \n",
            "/usr/local/lib/python3.6/dist-packages/ipykernel_launcher.py:7: UserWarning: Update your `Dense` call to the Keras 2 API: `Dense(1, activation=\"relu\", kernel_initializer=\"uniform\")`\n",
            "  import sys\n"
          ],
          "name": "stderr"
        }
      ]
    },
    {
      "cell_type": "markdown",
      "metadata": {
        "id": "2WAqp9ikiyWh",
        "colab_type": "text"
      },
      "source": [
        "**compile LSTM model**"
      ]
    },
    {
      "cell_type": "code",
      "metadata": {
        "id": "FamOaP5CixGX",
        "colab_type": "code",
        "colab": {
          "base_uri": "https://localhost:8080/",
          "height": 445
        },
        "outputId": "7622944a-4be7-41f2-e1ce-785feb6cad0c"
      },
      "source": [
        "model.compile(loss = \"mean_squared_error\", \n",
        "              optimizer = \"adam\",metrics=[metrics.mae])\n",
        "model.summary()"
      ],
      "execution_count": 26,
      "outputs": [
        {
          "output_type": "stream",
          "text": [
            "WARNING:tensorflow:From /usr/local/lib/python3.6/dist-packages/keras/optimizers.py:793: The name tf.train.Optimizer is deprecated. Please use tf.compat.v1.train.Optimizer instead.\n",
            "\n",
            "Model: \"sequential_1\"\n",
            "_________________________________________________________________\n",
            "Layer (type)                 Output Shape              Param #   \n",
            "=================================================================\n",
            "lstm_1 (LSTM)                (None, 128)               66560     \n",
            "_________________________________________________________________\n",
            "dropout_1 (Dropout)          (None, 128)               0         \n",
            "_________________________________________________________________\n",
            "dense_1 (Dense)              (None, 2)                 258       \n",
            "_________________________________________________________________\n",
            "dropout_2 (Dropout)          (None, 2)                 0         \n",
            "_________________________________________________________________\n",
            "dense_2 (Dense)              (None, 16)                48        \n",
            "_________________________________________________________________\n",
            "dense_3 (Dense)              (None, 1)                 17        \n",
            "_________________________________________________________________\n",
            "activation_1 (Activation)    (None, 1)                 0         \n",
            "=================================================================\n",
            "Total params: 66,883\n",
            "Trainable params: 66,883\n",
            "Non-trainable params: 0\n",
            "_________________________________________________________________\n"
          ],
          "name": "stdout"
        }
      ]
    },
    {
      "cell_type": "code",
      "metadata": {
        "id": "eZsorL9PJdS7",
        "colab_type": "code",
        "outputId": "f9e96c62-dd0c-44f2-e159-a5a8bf21fc9f",
        "colab": {
          "base_uri": "https://localhost:8080/",
          "height": 323
        }
      },
      "source": [
        "# # Define the model.\n",
        "# model = Sequential()\n",
        "# model.add(LSTM(128,input_shape = (1, window_size)))\n",
        "# model.add(Dropout(0.5))\n",
        "# model.add(Dropout(0.5))\n",
        "# model.add(Dense(1))\n",
        "# model.add(Activation(\"linear\"))\n",
        "# model.compile(loss = \"mean_squared_error\", \n",
        "#               optimizer = \"adam\")\n",
        "# model.summary()"
      ],
      "execution_count": 0,
      "outputs": [
        {
          "output_type": "stream",
          "text": [
            "Model: \"sequential_9\"\n",
            "_________________________________________________________________\n",
            "Layer (type)                 Output Shape              Param #   \n",
            "=================================================================\n",
            "lstm_10 (LSTM)               (None, 128)               66560     \n",
            "_________________________________________________________________\n",
            "dropout_16 (Dropout)         (None, 128)               0         \n",
            "_________________________________________________________________\n",
            "dropout_17 (Dropout)         (None, 128)               0         \n",
            "_________________________________________________________________\n",
            "dense_15 (Dense)             (None, 1)                 129       \n",
            "_________________________________________________________________\n",
            "activation_8 (Activation)    (None, 1)                 0         \n",
            "=================================================================\n",
            "Total params: 66,689\n",
            "Trainable params: 66,689\n",
            "Non-trainable params: 0\n",
            "_________________________________________________________________\n"
          ],
          "name": "stdout"
        }
      ]
    },
    {
      "cell_type": "markdown",
      "metadata": {
        "id": "rcscAji8i4Rl",
        "colab_type": "text"
      },
      "source": [
        "**Train this LSTM model**"
      ]
    },
    {
      "cell_type": "code",
      "metadata": {
        "id": "1RjcPathJdLY",
        "colab_type": "code",
        "outputId": "027114f3-2ba2-473b-f27a-f489622a96d2",
        "colab": {
          "base_uri": "https://localhost:8080/",
          "height": 1000
        }
      },
      "source": [
        "history = model.fit(train_X, \n",
        "              train_Y, validation_split=0.2,\n",
        "              epochs = 100, \n",
        "              batch_size = 1, \n",
        "              verbose = 2)"
      ],
      "execution_count": 27,
      "outputs": [
        {
          "output_type": "stream",
          "text": [
            "WARNING:tensorflow:From /tensorflow-1.15.2/python3.6/tensorflow_core/python/ops/math_grad.py:1424: where (from tensorflow.python.ops.array_ops) is deprecated and will be removed in a future version.\n",
            "Instructions for updating:\n",
            "Use tf.where in 2.0, which has the same broadcast rule as np.where\n",
            "WARNING:tensorflow:From /usr/local/lib/python3.6/dist-packages/keras/backend/tensorflow_backend.py:1033: The name tf.assign_add is deprecated. Please use tf.compat.v1.assign_add instead.\n",
            "\n",
            "WARNING:tensorflow:From /usr/local/lib/python3.6/dist-packages/keras/backend/tensorflow_backend.py:1020: The name tf.assign is deprecated. Please use tf.compat.v1.assign instead.\n",
            "\n",
            "WARNING:tensorflow:From /usr/local/lib/python3.6/dist-packages/keras/backend/tensorflow_backend.py:3005: The name tf.Session is deprecated. Please use tf.compat.v1.Session instead.\n",
            "\n",
            "Train on 67 samples, validate on 17 samples\n",
            "Epoch 1/100\n",
            "WARNING:tensorflow:From /usr/local/lib/python3.6/dist-packages/keras/backend/tensorflow_backend.py:190: The name tf.get_default_session is deprecated. Please use tf.compat.v1.get_default_session instead.\n",
            "\n",
            "WARNING:tensorflow:From /usr/local/lib/python3.6/dist-packages/keras/backend/tensorflow_backend.py:197: The name tf.ConfigProto is deprecated. Please use tf.compat.v1.ConfigProto instead.\n",
            "\n",
            "WARNING:tensorflow:From /usr/local/lib/python3.6/dist-packages/keras/backend/tensorflow_backend.py:207: The name tf.global_variables is deprecated. Please use tf.compat.v1.global_variables instead.\n",
            "\n",
            "WARNING:tensorflow:From /usr/local/lib/python3.6/dist-packages/keras/backend/tensorflow_backend.py:216: The name tf.is_variable_initialized is deprecated. Please use tf.compat.v1.is_variable_initialized instead.\n",
            "\n",
            "WARNING:tensorflow:From /usr/local/lib/python3.6/dist-packages/keras/backend/tensorflow_backend.py:223: The name tf.variables_initializer is deprecated. Please use tf.compat.v1.variables_initializer instead.\n",
            "\n",
            " - 1s - loss: 0.0208 - mean_absolute_error: 0.1143 - val_loss: 0.0568 - val_mean_absolute_error: 0.2243\n",
            "Epoch 2/100\n",
            " - 0s - loss: 0.0091 - mean_absolute_error: 0.0786 - val_loss: 0.0405 - val_mean_absolute_error: 0.1846\n",
            "Epoch 3/100\n",
            " - 0s - loss: 0.0080 - mean_absolute_error: 0.0729 - val_loss: 0.0370 - val_mean_absolute_error: 0.1752\n",
            "Epoch 4/100\n",
            " - 0s - loss: 0.0088 - mean_absolute_error: 0.0768 - val_loss: 0.0372 - val_mean_absolute_error: 0.1758\n",
            "Epoch 5/100\n",
            " - 0s - loss: 0.0081 - mean_absolute_error: 0.0742 - val_loss: 0.0365 - val_mean_absolute_error: 0.1740\n",
            "Epoch 6/100\n",
            " - 0s - loss: 0.0079 - mean_absolute_error: 0.0723 - val_loss: 0.0354 - val_mean_absolute_error: 0.1709\n",
            "Epoch 7/100\n",
            " - 0s - loss: 0.0072 - mean_absolute_error: 0.0710 - val_loss: 0.0312 - val_mean_absolute_error: 0.1591\n",
            "Epoch 8/100\n",
            " - 0s - loss: 0.0079 - mean_absolute_error: 0.0721 - val_loss: 0.0306 - val_mean_absolute_error: 0.1574\n",
            "Epoch 9/100\n",
            " - 0s - loss: 0.0073 - mean_absolute_error: 0.0683 - val_loss: 0.0282 - val_mean_absolute_error: 0.1507\n",
            "Epoch 10/100\n",
            " - 0s - loss: 0.0071 - mean_absolute_error: 0.0683 - val_loss: 0.0248 - val_mean_absolute_error: 0.1401\n",
            "Epoch 11/100\n",
            " - 0s - loss: 0.0064 - mean_absolute_error: 0.0641 - val_loss: 0.0263 - val_mean_absolute_error: 0.1470\n",
            "Epoch 12/100\n",
            " - 0s - loss: 0.0055 - mean_absolute_error: 0.0566 - val_loss: 0.0168 - val_mean_absolute_error: 0.1130\n",
            "Epoch 13/100\n",
            " - 0s - loss: 0.0044 - mean_absolute_error: 0.0494 - val_loss: 0.0121 - val_mean_absolute_error: 0.0928\n",
            "Epoch 14/100\n",
            " - 0s - loss: 0.0043 - mean_absolute_error: 0.0495 - val_loss: 0.0083 - val_mean_absolute_error: 0.0730\n",
            "Epoch 15/100\n",
            " - 0s - loss: 0.0045 - mean_absolute_error: 0.0533 - val_loss: 0.0096 - val_mean_absolute_error: 0.0801\n",
            "Epoch 16/100\n",
            " - 0s - loss: 0.0048 - mean_absolute_error: 0.0524 - val_loss: 0.0109 - val_mean_absolute_error: 0.0875\n",
            "Epoch 17/100\n",
            " - 0s - loss: 0.0040 - mean_absolute_error: 0.0498 - val_loss: 0.0061 - val_mean_absolute_error: 0.0616\n",
            "Epoch 18/100\n",
            " - 0s - loss: 0.0035 - mean_absolute_error: 0.0474 - val_loss: 0.0067 - val_mean_absolute_error: 0.0646\n",
            "Epoch 19/100\n",
            " - 0s - loss: 0.0035 - mean_absolute_error: 0.0432 - val_loss: 0.0087 - val_mean_absolute_error: 0.0756\n",
            "Epoch 20/100\n",
            " - 0s - loss: 0.0033 - mean_absolute_error: 0.0458 - val_loss: 0.0071 - val_mean_absolute_error: 0.0668\n",
            "Epoch 21/100\n",
            " - 0s - loss: 0.0031 - mean_absolute_error: 0.0407 - val_loss: 0.0083 - val_mean_absolute_error: 0.0735\n",
            "Epoch 22/100\n",
            " - 0s - loss: 0.0036 - mean_absolute_error: 0.0499 - val_loss: 0.0073 - val_mean_absolute_error: 0.0679\n",
            "Epoch 23/100\n",
            " - 0s - loss: 0.0044 - mean_absolute_error: 0.0478 - val_loss: 0.0060 - val_mean_absolute_error: 0.0606\n",
            "Epoch 24/100\n",
            " - 0s - loss: 0.0041 - mean_absolute_error: 0.0480 - val_loss: 0.0044 - val_mean_absolute_error: 0.0515\n",
            "Epoch 25/100\n",
            " - 0s - loss: 0.0040 - mean_absolute_error: 0.0487 - val_loss: 0.0045 - val_mean_absolute_error: 0.0519\n",
            "Epoch 26/100\n",
            " - 0s - loss: 0.0040 - mean_absolute_error: 0.0478 - val_loss: 0.0080 - val_mean_absolute_error: 0.0716\n",
            "Epoch 27/100\n",
            " - 0s - loss: 0.0040 - mean_absolute_error: 0.0521 - val_loss: 0.0106 - val_mean_absolute_error: 0.0862\n",
            "Epoch 28/100\n",
            " - 0s - loss: 0.0042 - mean_absolute_error: 0.0465 - val_loss: 0.0063 - val_mean_absolute_error: 0.0622\n",
            "Epoch 29/100\n",
            " - 0s - loss: 0.0034 - mean_absolute_error: 0.0436 - val_loss: 0.0079 - val_mean_absolute_error: 0.0708\n",
            "Epoch 30/100\n",
            " - 0s - loss: 0.0031 - mean_absolute_error: 0.0428 - val_loss: 0.0052 - val_mean_absolute_error: 0.0559\n",
            "Epoch 31/100\n",
            " - 0s - loss: 0.0031 - mean_absolute_error: 0.0440 - val_loss: 0.0076 - val_mean_absolute_error: 0.0694\n",
            "Epoch 32/100\n",
            " - 0s - loss: 0.0042 - mean_absolute_error: 0.0460 - val_loss: 0.0071 - val_mean_absolute_error: 0.0666\n",
            "Epoch 33/100\n",
            " - 0s - loss: 0.0036 - mean_absolute_error: 0.0497 - val_loss: 0.0063 - val_mean_absolute_error: 0.0623\n",
            "Epoch 34/100\n",
            " - 0s - loss: 0.0029 - mean_absolute_error: 0.0434 - val_loss: 0.0047 - val_mean_absolute_error: 0.0533\n",
            "Epoch 35/100\n",
            " - 0s - loss: 0.0032 - mean_absolute_error: 0.0395 - val_loss: 0.0068 - val_mean_absolute_error: 0.0653\n",
            "Epoch 36/100\n",
            " - 0s - loss: 0.0031 - mean_absolute_error: 0.0445 - val_loss: 0.0060 - val_mean_absolute_error: 0.0609\n",
            "Epoch 37/100\n",
            " - 0s - loss: 0.0033 - mean_absolute_error: 0.0397 - val_loss: 0.0081 - val_mean_absolute_error: 0.0725\n",
            "Epoch 38/100\n",
            " - 0s - loss: 0.0031 - mean_absolute_error: 0.0414 - val_loss: 0.0050 - val_mean_absolute_error: 0.0546\n",
            "Epoch 39/100\n",
            " - 0s - loss: 0.0043 - mean_absolute_error: 0.0508 - val_loss: 0.0051 - val_mean_absolute_error: 0.0555\n",
            "Epoch 40/100\n",
            " - 0s - loss: 0.0047 - mean_absolute_error: 0.0490 - val_loss: 0.0055 - val_mean_absolute_error: 0.0576\n",
            "Epoch 41/100\n",
            " - 0s - loss: 0.0034 - mean_absolute_error: 0.0417 - val_loss: 0.0084 - val_mean_absolute_error: 0.0743\n",
            "Epoch 42/100\n",
            " - 0s - loss: 0.0027 - mean_absolute_error: 0.0393 - val_loss: 0.0071 - val_mean_absolute_error: 0.0668\n",
            "Epoch 43/100\n",
            " - 0s - loss: 0.0043 - mean_absolute_error: 0.0481 - val_loss: 0.0087 - val_mean_absolute_error: 0.0759\n",
            "Epoch 44/100\n",
            " - 0s - loss: 0.0042 - mean_absolute_error: 0.0506 - val_loss: 0.0087 - val_mean_absolute_error: 0.0761\n",
            "Epoch 45/100\n",
            " - 0s - loss: 0.0032 - mean_absolute_error: 0.0442 - val_loss: 0.0076 - val_mean_absolute_error: 0.0693\n",
            "Epoch 46/100\n",
            " - 0s - loss: 0.0032 - mean_absolute_error: 0.0427 - val_loss: 0.0058 - val_mean_absolute_error: 0.0594\n",
            "Epoch 47/100\n",
            " - 0s - loss: 0.0038 - mean_absolute_error: 0.0446 - val_loss: 0.0075 - val_mean_absolute_error: 0.0687\n",
            "Epoch 48/100\n",
            " - 0s - loss: 0.0036 - mean_absolute_error: 0.0465 - val_loss: 0.0062 - val_mean_absolute_error: 0.0621\n",
            "Epoch 49/100\n",
            " - 0s - loss: 0.0037 - mean_absolute_error: 0.0459 - val_loss: 0.0057 - val_mean_absolute_error: 0.0590\n",
            "Epoch 50/100\n",
            " - 0s - loss: 0.0041 - mean_absolute_error: 0.0504 - val_loss: 0.0079 - val_mean_absolute_error: 0.0709\n",
            "Epoch 51/100\n",
            " - 0s - loss: 0.0028 - mean_absolute_error: 0.0399 - val_loss: 0.0055 - val_mean_absolute_error: 0.0577\n",
            "Epoch 52/100\n",
            " - 0s - loss: 0.0041 - mean_absolute_error: 0.0465 - val_loss: 0.0081 - val_mean_absolute_error: 0.0724\n",
            "Epoch 53/100\n",
            " - 0s - loss: 0.0049 - mean_absolute_error: 0.0510 - val_loss: 0.0079 - val_mean_absolute_error: 0.0714\n",
            "Epoch 54/100\n",
            " - 0s - loss: 0.0050 - mean_absolute_error: 0.0525 - val_loss: 0.0063 - val_mean_absolute_error: 0.0624\n",
            "Epoch 55/100\n",
            " - 0s - loss: 0.0026 - mean_absolute_error: 0.0388 - val_loss: 0.0060 - val_mean_absolute_error: 0.0611\n",
            "Epoch 56/100\n",
            " - 0s - loss: 0.0038 - mean_absolute_error: 0.0470 - val_loss: 0.0042 - val_mean_absolute_error: 0.0508\n",
            "Epoch 57/100\n",
            " - 0s - loss: 0.0032 - mean_absolute_error: 0.0436 - val_loss: 0.0042 - val_mean_absolute_error: 0.0509\n",
            "Epoch 58/100\n",
            " - 0s - loss: 0.0033 - mean_absolute_error: 0.0450 - val_loss: 0.0059 - val_mean_absolute_error: 0.0602\n",
            "Epoch 59/100\n",
            " - 0s - loss: 0.0036 - mean_absolute_error: 0.0463 - val_loss: 0.0073 - val_mean_absolute_error: 0.0676\n",
            "Epoch 60/100\n",
            " - 0s - loss: 0.0039 - mean_absolute_error: 0.0496 - val_loss: 0.0061 - val_mean_absolute_error: 0.0616\n",
            "Epoch 61/100\n",
            " - 0s - loss: 0.0029 - mean_absolute_error: 0.0441 - val_loss: 0.0055 - val_mean_absolute_error: 0.0575\n",
            "Epoch 62/100\n",
            " - 0s - loss: 0.0031 - mean_absolute_error: 0.0434 - val_loss: 0.0063 - val_mean_absolute_error: 0.0625\n",
            "Epoch 63/100\n",
            " - 0s - loss: 0.0026 - mean_absolute_error: 0.0400 - val_loss: 0.0075 - val_mean_absolute_error: 0.0691\n",
            "Epoch 64/100\n",
            " - 0s - loss: 0.0034 - mean_absolute_error: 0.0410 - val_loss: 0.0033 - val_mean_absolute_error: 0.0464\n",
            "Epoch 65/100\n",
            " - 0s - loss: 0.0042 - mean_absolute_error: 0.0481 - val_loss: 0.0092 - val_mean_absolute_error: 0.0782\n",
            "Epoch 66/100\n",
            " - 0s - loss: 0.0035 - mean_absolute_error: 0.0420 - val_loss: 0.0059 - val_mean_absolute_error: 0.0602\n",
            "Epoch 67/100\n",
            " - 0s - loss: 0.0028 - mean_absolute_error: 0.0412 - val_loss: 0.0056 - val_mean_absolute_error: 0.0585\n",
            "Epoch 68/100\n",
            " - 0s - loss: 0.0035 - mean_absolute_error: 0.0456 - val_loss: 0.0054 - val_mean_absolute_error: 0.0570\n",
            "Epoch 69/100\n",
            " - 0s - loss: 0.0030 - mean_absolute_error: 0.0411 - val_loss: 0.0067 - val_mean_absolute_error: 0.0647\n",
            "Epoch 70/100\n",
            " - 0s - loss: 0.0040 - mean_absolute_error: 0.0490 - val_loss: 0.0047 - val_mean_absolute_error: 0.0532\n",
            "Epoch 71/100\n",
            " - 0s - loss: 0.0034 - mean_absolute_error: 0.0438 - val_loss: 0.0050 - val_mean_absolute_error: 0.0547\n",
            "Epoch 72/100\n",
            " - 0s - loss: 0.0051 - mean_absolute_error: 0.0579 - val_loss: 0.0071 - val_mean_absolute_error: 0.0670\n",
            "Epoch 73/100\n",
            " - 0s - loss: 0.0029 - mean_absolute_error: 0.0407 - val_loss: 0.0050 - val_mean_absolute_error: 0.0549\n",
            "Epoch 74/100\n",
            " - 0s - loss: 0.0033 - mean_absolute_error: 0.0441 - val_loss: 0.0042 - val_mean_absolute_error: 0.0511\n",
            "Epoch 75/100\n",
            " - 0s - loss: 0.0027 - mean_absolute_error: 0.0406 - val_loss: 0.0045 - val_mean_absolute_error: 0.0526\n",
            "Epoch 76/100\n",
            " - 0s - loss: 0.0028 - mean_absolute_error: 0.0398 - val_loss: 0.0040 - val_mean_absolute_error: 0.0503\n",
            "Epoch 77/100\n",
            " - 0s - loss: 0.0026 - mean_absolute_error: 0.0378 - val_loss: 0.0054 - val_mean_absolute_error: 0.0574\n",
            "Epoch 78/100\n",
            " - 0s - loss: 0.0032 - mean_absolute_error: 0.0446 - val_loss: 0.0064 - val_mean_absolute_error: 0.0634\n",
            "Epoch 79/100\n",
            " - 0s - loss: 0.0039 - mean_absolute_error: 0.0497 - val_loss: 0.0063 - val_mean_absolute_error: 0.0625\n",
            "Epoch 80/100\n",
            " - 0s - loss: 0.0037 - mean_absolute_error: 0.0455 - val_loss: 0.0056 - val_mean_absolute_error: 0.0584\n",
            "Epoch 81/100\n",
            " - 0s - loss: 0.0046 - mean_absolute_error: 0.0519 - val_loss: 0.0075 - val_mean_absolute_error: 0.0689\n",
            "Epoch 82/100\n",
            " - 0s - loss: 0.0037 - mean_absolute_error: 0.0480 - val_loss: 0.0067 - val_mean_absolute_error: 0.0648\n",
            "Epoch 83/100\n",
            " - 0s - loss: 0.0047 - mean_absolute_error: 0.0528 - val_loss: 0.0070 - val_mean_absolute_error: 0.0664\n",
            "Epoch 84/100\n",
            " - 0s - loss: 0.0027 - mean_absolute_error: 0.0425 - val_loss: 0.0118 - val_mean_absolute_error: 0.0921\n",
            "Epoch 85/100\n",
            " - 0s - loss: 0.0042 - mean_absolute_error: 0.0460 - val_loss: 0.0088 - val_mean_absolute_error: 0.0760\n",
            "Epoch 86/100\n",
            " - 0s - loss: 0.0037 - mean_absolute_error: 0.0464 - val_loss: 0.0083 - val_mean_absolute_error: 0.0730\n",
            "Epoch 87/100\n",
            " - 0s - loss: 0.0025 - mean_absolute_error: 0.0382 - val_loss: 0.0057 - val_mean_absolute_error: 0.0591\n",
            "Epoch 88/100\n",
            " - 0s - loss: 0.0034 - mean_absolute_error: 0.0458 - val_loss: 0.0071 - val_mean_absolute_error: 0.0672\n",
            "Epoch 89/100\n",
            " - 0s - loss: 0.0043 - mean_absolute_error: 0.0478 - val_loss: 0.0063 - val_mean_absolute_error: 0.0625\n",
            "Epoch 90/100\n",
            " - 0s - loss: 0.0038 - mean_absolute_error: 0.0439 - val_loss: 0.0048 - val_mean_absolute_error: 0.0537\n",
            "Epoch 91/100\n",
            " - 0s - loss: 0.0031 - mean_absolute_error: 0.0428 - val_loss: 0.0053 - val_mean_absolute_error: 0.0567\n",
            "Epoch 92/100\n",
            " - 0s - loss: 0.0033 - mean_absolute_error: 0.0428 - val_loss: 0.0084 - val_mean_absolute_error: 0.0737\n",
            "Epoch 93/100\n",
            " - 0s - loss: 0.0040 - mean_absolute_error: 0.0477 - val_loss: 0.0075 - val_mean_absolute_error: 0.0691\n",
            "Epoch 94/100\n",
            " - 0s - loss: 0.0022 - mean_absolute_error: 0.0370 - val_loss: 0.0043 - val_mean_absolute_error: 0.0515\n",
            "Epoch 95/100\n",
            " - 0s - loss: 0.0037 - mean_absolute_error: 0.0425 - val_loss: 0.0047 - val_mean_absolute_error: 0.0534\n",
            "Epoch 96/100\n",
            " - 0s - loss: 0.0036 - mean_absolute_error: 0.0465 - val_loss: 0.0059 - val_mean_absolute_error: 0.0601\n",
            "Epoch 97/100\n",
            " - 0s - loss: 0.0046 - mean_absolute_error: 0.0560 - val_loss: 0.0057 - val_mean_absolute_error: 0.0589\n",
            "Epoch 98/100\n",
            " - 0s - loss: 0.0030 - mean_absolute_error: 0.0430 - val_loss: 0.0071 - val_mean_absolute_error: 0.0672\n",
            "Epoch 99/100\n",
            " - 0s - loss: 0.0023 - mean_absolute_error: 0.0386 - val_loss: 0.0050 - val_mean_absolute_error: 0.0545\n",
            "Epoch 100/100\n",
            " - 0s - loss: 0.0034 - mean_absolute_error: 0.0449 - val_loss: 0.0054 - val_mean_absolute_error: 0.0574\n"
          ],
          "name": "stdout"
        }
      ]
    },
    {
      "cell_type": "code",
      "metadata": {
        "id": "MGug0-paXnqi",
        "colab_type": "code",
        "outputId": "ef838f00-54d6-4d0e-df67-1aa4abfe392d",
        "colab": {
          "base_uri": "https://localhost:8080/",
          "height": 168
        }
      },
      "source": [
        "#type(history)\n",
        "print(history[0])"
      ],
      "execution_count": 29,
      "outputs": [
        {
          "output_type": "error",
          "ename": "TypeError",
          "evalue": "ignored",
          "traceback": [
            "\u001b[0;31m---------------------------------------------------------------------------\u001b[0m",
            "\u001b[0;31mTypeError\u001b[0m                                 Traceback (most recent call last)",
            "\u001b[0;32m<ipython-input-29-0b6646e3b680>\u001b[0m in \u001b[0;36m<module>\u001b[0;34m()\u001b[0m\n\u001b[0;32m----> 1\u001b[0;31m \u001b[0mprint\u001b[0m\u001b[0;34m(\u001b[0m\u001b[0mhistory\u001b[0m\u001b[0;34m[\u001b[0m\u001b[0;36m0\u001b[0m\u001b[0;34m]\u001b[0m\u001b[0;34m)\u001b[0m\u001b[0;34m\u001b[0m\u001b[0;34m\u001b[0m\u001b[0m\n\u001b[0m",
            "\u001b[0;31mTypeError\u001b[0m: 'History' object does not support indexing"
          ]
        }
      ]
    },
    {
      "cell_type": "markdown",
      "metadata": {
        "id": "J_Ri36KLqPXn",
        "colab_type": "text"
      },
      "source": [
        "## **Plot training data & validation data accuracy**"
      ]
    },
    {
      "cell_type": "code",
      "metadata": {
        "id": "4QrlUP_QXFsC",
        "colab_type": "code",
        "outputId": "8c72ae14-51b8-4698-f7e3-a9a29254fb56",
        "colab": {
          "base_uri": "https://localhost:8080/",
          "height": 295
        }
      },
      "source": [
        "plt.plot(history.history[list(history.history.keys())[3]]) # mean_squared_error\n",
        "plt.plot(history.history[list(history.history.keys())[1]]) # val_mean_squared_error\n",
        "plt.title('Train and Test mean_squared_error')\n",
        "plt.ylabel('mean_squared_error')\n",
        "plt.xlabel('Epoch')\n",
        "plt.legend(['Train', 'Test'], loc='upper left')\n",
        "plt.show()"
      ],
      "execution_count": 30,
      "outputs": [
        {
          "output_type": "display_data",
          "data": {
            "image/png": "[encoded data removed]",
            "text/plain": [
              "<Figure size 432x288 with 1 Axes>"
            ]
          },
          "metadata": {
            "tags": []
          }
        }
      ]
    },
    {
      "cell_type": "markdown",
      "metadata": {
        "id": "t9L0p7iXqfbB",
        "colab_type": "text"
      },
      "source": [
        "### **Plot training & validation loss values**"
      ]
    },
    {
      "cell_type": "code",
      "metadata": {
        "id": "a2ZCO357XJT9",
        "colab_type": "code",
        "outputId": "0e5f6dd7-7034-4c53-bd12-cabc69a23130",
        "colab": {
          "base_uri": "https://localhost:8080/",
          "height": 295
        }
      },
      "source": [
        "plt.plot(history.history[list(history.history.keys())[2]]) # loss\n",
        "plt.plot(history.history[list(history.history.keys())[0]]) # val_loss\n",
        "plt.title('Model loss')\n",
        "plt.ylabel('Loss')\n",
        "plt.xlabel('Epoch')\n",
        "plt.legend(['Train', 'Test'], loc='upper left')\n",
        "plt.show()"
      ],
      "execution_count": 31,
      "outputs": [
        {
          "output_type": "display_data",
          "data": {
            "image/png": "[encoded data removed]",
            "text/plain": [
              "<Figure size 432x288 with 1 Axes>"
            ]
          },
          "metadata": {
            "tags": []
          }
        }
      ]
    },
    {
      "cell_type": "markdown",
      "metadata": {
        "id": "I_i9_gy9qnsQ",
        "colab_type": "text"
      },
      "source": [
        "### **Make predictions on the original scale of the data**"
      ]
    },
    {
      "cell_type": "code",
      "metadata": {
        "id": "jZMsjSQxqvUS",
        "colab_type": "code",
        "colab": {}
      },
      "source": [
        "train_predict_pred = data_scaler.inverse_transform(model.predict(train_X))"
      ],
      "execution_count": 0,
      "outputs": []
    },
    {
      "cell_type": "code",
      "metadata": {
        "id": "aV_3VfEvq0SA",
        "colab_type": "code",
        "colab": {
          "base_uri": "https://localhost:8080/",
          "height": 136
        },
        "outputId": "df3240ec-0bfb-4fc5-d6d3-b7e49b535c34"
      },
      "source": [
        "print(type(train_predict_pred))\n",
        "print(train_predict_pred.shape)\n",
        "print(train_predict_pred[0:5])"
      ],
      "execution_count": 35,
      "outputs": [
        {
          "output_type": "stream",
          "text": [
            "<class 'numpy.ndarray'>\n",
            "(84, 1)\n",
            "[[133.30527]\n",
            " [135.02727]\n",
            " [140.62291]\n",
            " [138.41307]\n",
            " [135.89003]]\n"
          ],
          "name": "stdout"
        }
      ]
    },
    {
      "cell_type": "markdown",
      "metadata": {
        "id": "PxdbdQU8rJA1",
        "colab_type": "text"
      },
      "source": [
        "### **Prepare Y data to also be on the orginal scale for interpretability**"
      ]
    },
    {
      "cell_type": "code",
      "metadata": {
        "id": "cxbLsa_OrQ9K",
        "colab_type": "code",
        "colab": {}
      },
      "source": [
        "train_orig_data = data_scaler.inverse_transform([train_Y])"
      ],
      "execution_count": 0,
      "outputs": []
    },
    {
      "cell_type": "code",
      "metadata": {
        "id": "PSgRDh1drXcL",
        "colab_type": "code",
        "colab": {
          "base_uri": "https://localhost:8080/",
          "height": 340
        },
        "outputId": "21d47ac0-80a1-4aaf-f609-ed4841351be7"
      },
      "source": [
        "print(type(train_orig_data))\n",
        "print(train_orig_data.shape)\n",
        "print(train_orig_data[0:5])"
      ],
      "execution_count": 38,
      "outputs": [
        {
          "output_type": "stream",
          "text": [
            "<class 'numpy.ndarray'>\n",
            "(1, 84)\n",
            "[[117.99999916 131.99999879 129.00000163 120.99999632 135.00000368\n",
            "  147.99999397 147.99999397 136.00000531 119.00000078 103.99999952\n",
            "  117.99999916 115.00000199 125.99999674 140.99999801 135.00000368\n",
            "  125.00000283 148.9999956  169.99999891 169.99999891 157.99999481\n",
            "  133.00000042 114.00000036 139.99999638 145.00000452 149.99999723\n",
            "  177.9999965  163.00000295 172.00000217 177.9999965  198.99999982\n",
            "  198.99999982 184.00000627 162.00000133 146.00000615 165.9999924\n",
            "  171.00000054 179.99999976 193.00000549 181.00000139 183.00000464\n",
            "  217.99999988 230.00000398 241.99999264 209.00000066 191.00000223\n",
            "  172.00000217 194.00000712 195.99999493 195.99999493 235.99999831\n",
            "  234.99999668 229.00000235 242.99999427 263.99999759 272.00001061\n",
            "  236.99999994 211.00000392 179.99999976 201.00000308 203.99999252\n",
            "  187.99999735 234.99999668 226.9999991  233.99999506 263.99999759\n",
            "  301.99999771 292.99999849 259.00000488 229.00000235 203.00000633\n",
            "  229.00000235 241.99999264 232.99999343 266.99998703 268.99999029\n",
            "  270.00000736 315.00000344 363.99999059 346.99999379 312.00001399\n",
            "  274.00001387 236.99999994 277.99998951 283.99999928]]\n"
          ],
          "name": "stdout"
        }
      ]
    },
    {
      "cell_type": "markdown",
      "metadata": {
        "id": "klhV6AYYrcw9",
        "colab_type": "text"
      },
      "source": [
        "### **Calculate RMSE**"
      ]
    },
    {
      "cell_type": "code",
      "metadata": {
        "id": "U7jb1U_0L-nP",
        "colab_type": "code",
        "colab": {}
      },
      "source": [
        "rmse_train_score = math.sqrt(mean_squared_error(train_orig_data[0], train_predict_pred[:, 0]))\n",
        " "
      ],
      "execution_count": 0,
      "outputs": []
    },
    {
      "cell_type": "code",
      "metadata": {
        "id": "TtDMhsrRMLOO",
        "colab_type": "code",
        "outputId": "63e382ee-55eb-4f0e-d59e-ec53bc733468",
        "colab": {
          "base_uri": "https://localhost:8080/",
          "height": 34
        }
      },
      "source": [
        "print(\"Training data score: %.2f RMSE\" % rmse_train_score)"
      ],
      "execution_count": 40,
      "outputs": [
        {
          "output_type": "stream",
          "text": [
            "Training data score: 24.74 RMSE\n"
          ],
          "name": "stdout"
        }
      ]
    },
    {
      "cell_type": "markdown",
      "metadata": {
        "id": "mtPuBvFCsSi4",
        "colab_type": "text"
      },
      "source": [
        "## **Testing predicitons Make the predictions on the original scale of the testing data**"
      ]
    },
    {
      "cell_type": "markdown",
      "metadata": {
        "id": "op3GLONFtxZl",
        "colab_type": "text"
      },
      "source": [
        "**Make predictions on the test data**"
      ]
    },
    {
      "cell_type": "code",
      "metadata": {
        "id": "aIcmVIl5sYm5",
        "colab_type": "code",
        "colab": {}
      },
      "source": [
        "test_predict_pred = data_scaler.inverse_transform(model.predict(test_X))\n"
      ],
      "execution_count": 0,
      "outputs": []
    },
    {
      "cell_type": "markdown",
      "metadata": {
        "id": "4duzmDsTuBCU",
        "colab_type": "text"
      },
      "source": [
        "**Prepare Y data to also be on the original scale for interpretability**"
      ]
    },
    {
      "cell_type": "code",
      "metadata": {
        "id": "0vBFjiIvu5k2",
        "colab_type": "code",
        "colab": {}
      },
      "source": [
        "test_orig_data = data_scaler.inverse_transform([test_Y])\n"
      ],
      "execution_count": 0,
      "outputs": []
    },
    {
      "cell_type": "code",
      "metadata": {
        "id": "T5qE12SqvA6h",
        "colab_type": "code",
        "colab": {
          "base_uri": "https://localhost:8080/",
          "height": 255
        },
        "outputId": "7e321a9a-e074-4633-b89a-0086faa39358"
      },
      "source": [
        "print(type(test_orig_data))\n",
        "print(test_orig_data.shape)\n",
        "print(test_orig_data[0:5])"
      ],
      "execution_count": 43,
      "outputs": [
        {
          "output_type": "stream",
          "text": [
            "<class 'numpy.ndarray'>\n",
            "(1, 56)\n",
            "[[313.00000018 317.99999288 373.999976   412.99999319 404.99998016\n",
            "  355.00000681 306.00000422 270.99999355 306.00000422 315.00000344\n",
            "  301.00001152 355.999993   348.00001085 355.00000681 421.9999924\n",
            "  465.0000161  466.99998848 403.99999397 346.99999379 304.99998716\n",
            "  335.99999132 339.99999783 317.99999288 362.00000277 348.00001085\n",
            "  362.99998896 434.99999813 491.00002756 505.00001948 403.99999397\n",
            "  359.00001333 310.00001073 337.00000838 359.99999952 342.00000109\n",
            "  406.0000281  395.99998094 420.00002002 471.99998119 548.00004318\n",
            "  559.00001477 462.99998197 407.00001429 362.00000277 404.99998016\n",
            "  416.9999997  390.99998824 418.99997208 461.00000959 471.99998119\n",
            "  535.00003745 622.00000929 606.00004499 507.99997805 461.00000959\n",
            "  390.00000205]]\n"
          ],
          "name": "stdout"
        }
      ]
    },
    {
      "cell_type": "markdown",
      "metadata": {
        "id": "QbN1AT6wvFkF",
        "colab_type": "text"
      },
      "source": [
        "### **Calculate RMSE**"
      ]
    },
    {
      "cell_type": "code",
      "metadata": {
        "id": "WgZVkK-qMfq6",
        "colab_type": "code",
        "colab": {}
      },
      "source": [
        "rmse_test_score = math.sqrt(mean_squared_error(test_orig_data[0], test_predict_pred[:, 0])) "
      ],
      "execution_count": 0,
      "outputs": []
    },
    {
      "cell_type": "code",
      "metadata": {
        "id": "AXg74lb5rvbz",
        "colab_type": "code",
        "outputId": "5b95b391-c8fc-4595-8bf5-372f79cb62ef",
        "colab": {
          "base_uri": "https://localhost:8080/",
          "height": 34
        }
      },
      "source": [
        "print(\"Test data score: %.2f RMSE\" % rmse_test_score)\n"
      ],
      "execution_count": 47,
      "outputs": [
        {
          "output_type": "stream",
          "text": [
            "Test data score: 91.58 RMSE\n"
          ],
          "name": "stdout"
        }
      ]
    },
    {
      "cell_type": "markdown",
      "metadata": {
        "id": "hF4cw7gjvbKJ",
        "colab_type": "text"
      },
      "source": [
        "### **Start with training predictions**"
      ]
    },
    {
      "cell_type": "code",
      "metadata": {
        "id": "0oDL3ogqv3Xj",
        "colab_type": "code",
        "colab": {
          "base_uri": "https://localhost:8080/",
          "height": 34
        },
        "outputId": "a70b08ed-9e37-4a6c-ff4c-6d06ff63d1ab"
      },
      "source": [
        "print(dataset.shape)"
      ],
      "execution_count": 49,
      "outputs": [
        {
          "output_type": "stream",
          "text": [
            "(144, 1)\n"
          ],
          "name": "stdout"
        }
      ]
    },
    {
      "cell_type": "code",
      "metadata": {
        "id": "xxgqnBoEv1rE",
        "colab_type": "code",
        "colab": {}
      },
      "source": [
        "train_predict_plot = np.empty_like(dataset)\n"
      ],
      "execution_count": 0,
      "outputs": []
    },
    {
      "cell_type": "code",
      "metadata": {
        "id": "Q8Q-dLgC1RFw",
        "colab_type": "code",
        "colab": {
          "base_uri": "https://localhost:8080/",
          "height": 34
        },
        "outputId": "38105982-9ff2-4e89-9267-5f38448b15ea"
      },
      "source": [
        "print(train_predict_plot.shape)"
      ],
      "execution_count": 58,
      "outputs": [
        {
          "output_type": "stream",
          "text": [
            "(144, 1)\n"
          ],
          "name": "stdout"
        }
      ]
    },
    {
      "cell_type": "code",
      "metadata": {
        "id": "VG4yEQqOwcRr",
        "colab_type": "code",
        "colab": {}
      },
      "source": [
        "train_predict_plot[:, :] = np.nan\n",
        "train_predict_plot[window_size:len(train_predict_pred) + window_size, :] = train_predict_pred\n"
      ],
      "execution_count": 0,
      "outputs": []
    },
    {
      "cell_type": "markdown",
      "metadata": {
        "id": "mRm-Rfy-wj6P",
        "colab_type": "text"
      },
      "source": [
        "### **Starting testing predictions**"
      ]
    },
    {
      "cell_type": "code",
      "metadata": {
        "id": "9e8nO4AbyMcr",
        "colab_type": "code",
        "colab": {
          "base_uri": "https://localhost:8080/",
          "height": 34
        },
        "outputId": "12f1f42b-5b04-4cb0-d1d7-347b274e7115"
      },
      "source": [
        "test_predict_plot = np.empty_like(dataset)\n",
        "print(test_predict_plot.shape)"
      ],
      "execution_count": 61,
      "outputs": [
        {
          "output_type": "stream",
          "text": [
            "(144, 1)\n"
          ],
          "name": "stdout"
        }
      ]
    },
    {
      "cell_type": "code",
      "metadata": {
        "id": "v0YN1iJUM8ZZ",
        "colab_type": "code",
        "colab": {}
      },
      "source": [
        "\n",
        "test_predict_plot[:, :] = np.nan\n",
        "test_predict_plot[len(train_predict_pred) + (window_size * 2) + 1:len(dataset) - 1, :] = test_predict_pred"
      ],
      "execution_count": 0,
      "outputs": []
    },
    {
      "cell_type": "markdown",
      "metadata": {
        "id": "5pzPXNWm1tXF",
        "colab_type": "text"
      },
      "source": [
        "### **Create the plot**"
      ]
    },
    {
      "cell_type": "code",
      "metadata": {
        "id": "7ox0ngVxOB_P",
        "colab_type": "code",
        "outputId": "8ce2e5a7-e6ba-4129-b74d-4fd4c9ee17fe",
        "colab": {
          "base_uri": "https://localhost:8080/",
          "height": 542
        }
      },
      "source": [
        "# Create the plot.\n",
        "plt.figure(figsize = (20, 10))\n",
        "plt.plot(data_scaler.inverse_transform(dataset), label = \"True value\")\n",
        "plt.plot(train_predict_plot, label = \"train data prediction\")\n",
        "plt.plot(test_predict_plot, label = \"test data prediction\")\n",
        "plt.xlabel(\"Months\")\n",
        "plt.ylabel(\"1000 International Airline Passengers\")\n",
        "plt.title(\"Comparison real/true trend vs. predicted training / test prediction\")\n",
        "plt.legend()\n",
        "plt.show()"
      ],
      "execution_count": 64,
      "outputs": [
        {
          "output_type": "display_data",
          "data": {
            "image/png": "[encoded data removed]",
            "text/plain": [
              "<Figure size 1440x720 with 1 Axes>"
            ]
          },
          "metadata": {
            "tags": []
          }
        }
      ]
    },
    {
      "cell_type": "markdown",
      "metadata": {
        "id": "nDiBmxB42YUQ",
        "colab_type": "text"
      },
      "source": [
        "## **Evaluate this model**"
      ]
    },
    {
      "cell_type": "markdown",
      "metadata": {
        "id": "Wei7CaCg2diG",
        "colab_type": "text"
      },
      "source": [
        "**Obtain train score**"
      ]
    },
    {
      "cell_type": "code",
      "metadata": {
        "id": "ZYVt4FH521LI",
        "colab_type": "code",
        "colab": {}
      },
      "source": [
        "trainScore = model.evaluate(train_X, train_Y, verbose=0)\n",
        "print('Train Score: %.2f MSE (%.2f RMSE)' % (trainScore[0], math.sqrt(trainScore[0])))\n"
      ],
      "execution_count": 0,
      "outputs": []
    },
    {
      "cell_type": "code",
      "metadata": {
        "id": "Y6ehNhie24ur",
        "colab_type": "code",
        "colab": {
          "base_uri": "https://localhost:8080/",
          "height": 34
        },
        "outputId": "4c818b8d-f5b8-49f5-bd23-17f189907f31"
      },
      "source": [
        "print(trainScore)"
      ],
      "execution_count": 70,
      "outputs": [
        {
          "output_type": "stream",
          "text": [
            "[0.0022810321922103562, 0.0361148500371547]\n"
          ],
          "name": "stdout"
        }
      ]
    },
    {
      "cell_type": "markdown",
      "metadata": {
        "id": "Pt311uaM2hdD",
        "colab_type": "text"
      },
      "source": [
        "**Obtain testing score**"
      ]
    },
    {
      "cell_type": "code",
      "metadata": {
        "id": "fQFTfvJ42lAr",
        "colab_type": "code",
        "colab": {
          "base_uri": "https://localhost:8080/",
          "height": 34
        },
        "outputId": "d7311295-d3c8-472a-d68b-92bb33db5168"
      },
      "source": [
        "testScore = model.evaluate(test_X, test_Y, verbose=0)\n",
        "print('Test Score: %.2f MSE (%.2f RMSE)' % (testScore[0], math.sqrt(testScore[0])))"
      ],
      "execution_count": 72,
      "outputs": [
        {
          "output_type": "stream",
          "text": [
            "Test Score: 0.03 MSE (0.18 RMSE)\n"
          ],
          "name": "stdout"
        }
      ]
    },
    {
      "cell_type": "code",
      "metadata": {
        "id": "qOf5bzUT3Twf",
        "colab_type": "code",
        "colab": {
          "base_uri": "https://localhost:8080/",
          "height": 34
        },
        "outputId": "95155fc2-8ce2-4e08-c081-c6a5045d9285"
      },
      "source": [
        "print(testScore)"
      ],
      "execution_count": 73,
      "outputs": [
        {
          "output_type": "stream",
          "text": [
            "[0.03125503606029919, 0.15119620731898717]\n"
          ],
          "name": "stdout"
        }
      ]
    },
    {
      "cell_type": "code",
      "metadata": {
        "id": "yBitEfRWjVUh",
        "colab_type": "code",
        "colab": {}
      },
      "source": [
        "# print(X_test[-1])\n",
        "diff=[]\n",
        "ratio=[]\n",
        "p = model.predict(test_X)\n",
        "for u in range(len(test_Y)):\n",
        "    pr = p[u][0]\n",
        "    ratio.append((test_Y[u]/pr)-1)\n",
        "    diff.append(abs(test_Y[u]- pr))\n",
        "    #print(u, y_test[u], pr, (y_test[u]/pr)-1, abs(y_test[u]- pr))"
      ],
      "execution_count": 0,
      "outputs": []
    },
    {
      "cell_type": "code",
      "metadata": {
        "id": "i1dm3l_xje9X",
        "colab_type": "code",
        "outputId": "ea5abc7c-d84d-42d3-ce0b-31f8c90986f4",
        "colab": {
          "base_uri": "https://localhost:8080/",
          "height": 265
        }
      },
      "source": [
        "import matplotlib.pyplot as plt2\n",
        "\n",
        "plt2.plot(p,color='red', label='prediction')\n",
        "plt2.plot(test_Y,color='blue', label='test_Y')\n",
        "plt2.legend(loc='upper left')\n",
        "plt2.show()"
      ],
      "execution_count": 75,
      "outputs": [
        {
          "output_type": "display_data",
          "data": {
            "image/png": "[encoded data removed]",
            "text/plain": [
              "<Figure size 432x288 with 1 Axes>"
            ]
          },
          "metadata": {
            "tags": []
          }
        }
      ]
    }
  ]
}